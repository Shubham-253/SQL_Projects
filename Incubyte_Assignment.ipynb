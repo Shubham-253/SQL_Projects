{
 "cells": [
  {
   "cell_type": "code",
   "execution_count": 1,
   "id": "9692e223",
   "metadata": {},
   "outputs": [],
   "source": [
    "import os\n",
    "import mysql.connector\n",
    "import pandas as pd\n",
    "from datetime import datetime"
   ]
  },
  {
   "cell_type": "code",
   "execution_count": 2,
   "id": "67548328",
   "metadata": {},
   "outputs": [],
   "source": [
    "connection = mysql.connector.connect(host = \"localhost\",\n",
    "                                    user = 'root',\n",
    "                                    passwd='123456',\n",
    "                                    )"
   ]
  },
  {
   "cell_type": "code",
   "execution_count": 3,
   "id": "8c4ab8cd",
   "metadata": {},
   "outputs": [
    {
     "name": "stdout",
     "output_type": "stream",
     "text": [
      "<mysql.connector.connection.MySQLConnection object at 0x000001F8139FD040>\n"
     ]
    }
   ],
   "source": [
    "print(connection)"
   ]
  },
  {
   "cell_type": "code",
   "execution_count": 4,
   "id": "6403472a",
   "metadata": {},
   "outputs": [],
   "source": [
    "c=connection.cursor()"
   ]
  },
  {
   "cell_type": "code",
   "execution_count": 6,
   "id": "ec064c69",
   "metadata": {},
   "outputs": [],
   "source": [
    "c.execute('create database Incubyte;')"
   ]
  },
  {
   "cell_type": "code",
   "execution_count": 7,
   "id": "84da98e6",
   "metadata": {},
   "outputs": [],
   "source": [
    "c.execute('use incubyte;')"
   ]
  },
  {
   "cell_type": "code",
   "execution_count": 8,
   "id": "2379333e",
   "metadata": {},
   "outputs": [],
   "source": [
    "q='CREATE TABLE customers (Customer_Name varchar(255), Customer_Id varchar(18), Open_Date date, Last_Consulted_Date date, Vaccination_Id varchar(5),Dr_Name varchar(255), State varchar(5), Country varchar(5), DOB date, Is_Active varchar(1));'\n",
    "c.execute(q)"
   ]
  },
  {
   "cell_type": "code",
   "execution_count": 9,
   "id": "5eb8ed0b",
   "metadata": {},
   "outputs": [],
   "source": [
    "query='Insert into customers(Customer_Name, Customer_Id, Open_Date, Last_Consulted_Date, Vaccination_Id, Dr_Name, State, Country, DOB, Is_Active) values (%s,%s,%s,%s,%s,%s,%s,%s,%s,%s)' \n",
    "\n",
    "value=[('Alex','123457','20101012','20121013','MVD','Paul','SA','USA',datetime.strptime('06031987', '%m%d%Y'),'A'),\n",
    "       ('John','123458','20101012','20121013','MVD','Paul','TN','IND',datetime.strptime('06031987', '%m%d%Y'),'A'),\n",
    "       ('Mathew','123459','20101012','20121013','MVD','Paul','WAS','PHIL',datetime.strptime('06031987', '%m%d%Y'),'A'),\n",
    "       ('Matt','12345','20101012','20121013','MVD','Paul','BOS','NYC',datetime.strptime('06031987', '%m%d%Y'),'A'),\n",
    "       ('Jacob','1256','20101012','20121013','MVD','Paul','VIC','AU',datetime.strptime('06031987', '%m%d%Y'),'A'),\n",
    "       ('Mathew','123459','20101012','20121013','MVD','Paul','WAS','IND',datetime.strptime('06031987', '%m%d%Y'),'A'),\n",
    "       ('Athen','123459','20101012','20121013','MVD','Paul','WAS','PHIL',datetime.strptime('06031987', '%m%d%Y'),'A'),\n",
    "       ('Peter','123459','20101012','20121013','MVD','Paul','WAS','PHIL',datetime.strptime('06031987', '%m%d%Y'),'A'),]"
   ]
  },
  {
   "cell_type": "code",
   "execution_count": 10,
   "id": "80655041",
   "metadata": {},
   "outputs": [],
   "source": [
    "c.executemany(query,value)"
   ]
  },
  {
   "cell_type": "code",
   "execution_count": 11,
   "id": "4e7bf5ab",
   "metadata": {},
   "outputs": [],
   "source": [
    "c.execute('select * from customers;')"
   ]
  },
  {
   "cell_type": "code",
   "execution_count": 12,
   "id": "1801f270",
   "metadata": {},
   "outputs": [
    {
     "name": "stdout",
     "output_type": "stream",
     "text": [
      "('Alex', '123457', datetime.date(2010, 10, 12), datetime.date(2012, 10, 13), 'MVD', 'Paul', 'SA', 'USA', datetime.date(1987, 6, 3), 'A')\n",
      "('John', '123458', datetime.date(2010, 10, 12), datetime.date(2012, 10, 13), 'MVD', 'Paul', 'TN', 'IND', datetime.date(1987, 6, 3), 'A')\n",
      "('Mathew', '123459', datetime.date(2010, 10, 12), datetime.date(2012, 10, 13), 'MVD', 'Paul', 'WAS', 'PHIL', datetime.date(1987, 6, 3), 'A')\n",
      "('Matt', '12345', datetime.date(2010, 10, 12), datetime.date(2012, 10, 13), 'MVD', 'Paul', 'BOS', 'NYC', datetime.date(1987, 6, 3), 'A')\n",
      "('Jacob', '1256', datetime.date(2010, 10, 12), datetime.date(2012, 10, 13), 'MVD', 'Paul', 'VIC', 'AU', datetime.date(1987, 6, 3), 'A')\n",
      "('Mathew', '123459', datetime.date(2010, 10, 12), datetime.date(2012, 10, 13), 'MVD', 'Paul', 'WAS', 'IND', datetime.date(1987, 6, 3), 'A')\n",
      "('Athen', '123459', datetime.date(2010, 10, 12), datetime.date(2012, 10, 13), 'MVD', 'Paul', 'WAS', 'PHIL', datetime.date(1987, 6, 3), 'A')\n",
      "('Peter', '123459', datetime.date(2010, 10, 12), datetime.date(2012, 10, 13), 'MVD', 'Paul', 'WAS', 'PHIL', datetime.date(1987, 6, 3), 'A')\n"
     ]
    }
   ],
   "source": [
    "for i in c.fetchall():\n",
    "    print(i)"
   ]
  },
  {
   "cell_type": "code",
   "execution_count": 13,
   "id": "99537077",
   "metadata": {},
   "outputs": [],
   "source": [
    "c.execute('select distinct(Country) FROM customers;')"
   ]
  },
  {
   "cell_type": "code",
   "execution_count": 14,
   "id": "53d44c69",
   "metadata": {},
   "outputs": [
    {
     "data": {
      "text/plain": [
       "[('USA',), ('IND',), ('PHIL',), ('NYC',), ('AU',)]"
      ]
     },
     "execution_count": 14,
     "metadata": {},
     "output_type": "execute_result"
    }
   ],
   "source": [
    "lst=c.fetchall()\n",
    "lst"
   ]
  },
  {
   "cell_type": "code",
   "execution_count": 15,
   "id": "cacfbd8b",
   "metadata": {},
   "outputs": [],
   "source": [
    "for i in lst:\n",
    "    if i[0]=='IND':\n",
    "        c.execute('CREATE TABLE Table_India as SELECT * FROM customers WHERE country=\"IND\";')\n",
    "    if i[0]=='USA':\n",
    "        c.execute('CREATE TABLE Table_USA as SELECT * FROM customers WHERE country=\"USA\";')\n",
    "    if i[0]=='PHIL':\n",
    "        c.execute('CREATE TABLE Table_PHIL as SELECT * FROM customers WHERE country=\"PHIL\";')\n",
    "    if i[0]=='NYC':\n",
    "        c.execute('CREATE TABLE Table_NYC as SELECT * FROM customers WHERE country=\"NYC\";')\n",
    "    if i[0]=='AU':\n",
    "        c.execute('CREATE TABLE Table_AU as SELECT * FROM customers WHERE country=\"AU\";')"
   ]
  },
  {
   "cell_type": "code",
   "execution_count": 16,
   "id": "9b1de77f",
   "metadata": {},
   "outputs": [],
   "source": [
    "c.execute('show tables ;')"
   ]
  },
  {
   "cell_type": "code",
   "execution_count": 17,
   "id": "47c7fefe",
   "metadata": {},
   "outputs": [
    {
     "data": {
      "text/plain": [
       "[('customers',),\n",
       " ('table_au',),\n",
       " ('table_india',),\n",
       " ('table_nyc',),\n",
       " ('table_phil',),\n",
       " ('table_usa',)]"
      ]
     },
     "execution_count": 17,
     "metadata": {},
     "output_type": "execute_result"
    }
   ],
   "source": [
    "c.fetchall()"
   ]
  },
  {
   "cell_type": "code",
   "execution_count": 20,
   "id": "b0bf8c6a",
   "metadata": {},
   "outputs": [],
   "source": [
    "c.execute('select * FROM Table_PHIL;')"
   ]
  },
  {
   "cell_type": "code",
   "execution_count": 21,
   "id": "eeafaecf",
   "metadata": {},
   "outputs": [
    {
     "name": "stdout",
     "output_type": "stream",
     "text": [
      "('Mathew', '123459', datetime.date(2010, 10, 12), datetime.date(2012, 10, 13), 'MVD', 'Paul', 'WAS', 'PHIL', datetime.date(1987, 6, 3), 'A')\n",
      "('Athen', '123459', datetime.date(2010, 10, 12), datetime.date(2012, 10, 13), 'MVD', 'Paul', 'WAS', 'PHIL', datetime.date(1987, 6, 3), 'A')\n",
      "('Peter', '123459', datetime.date(2010, 10, 12), datetime.date(2012, 10, 13), 'MVD', 'Paul', 'WAS', 'PHIL', datetime.date(1987, 6, 3), 'A')\n"
     ]
    }
   ],
   "source": [
    "for x in c.fetchall():\n",
    "    print(x)"
   ]
  }
 ],
 "metadata": {
  "kernelspec": {
   "display_name": "Python 3",
   "language": "python",
   "name": "python3"
  },
  "language_info": {
   "codemirror_mode": {
    "name": "ipython",
    "version": 3
   },
   "file_extension": ".py",
   "mimetype": "text/x-python",
   "name": "python",
   "nbconvert_exporter": "python",
   "pygments_lexer": "ipython3",
   "version": "3.8.8"
  }
 },
 "nbformat": 4,
 "nbformat_minor": 5
}
